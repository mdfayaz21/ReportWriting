{
 "cells": [
  {
   "cell_type": "markdown",
   "metadata": {
    "id": "LsSkRNhOjjNA"
   },
   "source": [
    "##Importing all the libraries"
   ]
  },
  {
   "cell_type": "code",
   "execution_count": null,
   "metadata": {
    "id": "iAiBXje8jNcY"
   },
   "outputs": [],
   "source": [
    "from sklearn.preprocessing import OneHotEncoder\n",
    "from flask import Flask, render_template, request\n",
    "from sklearn.preprocessing import StandardScaler, MinMaxScaler\n",
    "#from scipy.stats import zscore\n",
    "# from sklearn.ensemble import StackingRegressor\n",
    "from sklearn.neural_network import MLPRegressor\n",
    "# from sklearn.svm import SVR\n",
    "import seaborn as sns\n",
    "import warnings\n",
    "import matplotlib.pyplot as plt\n",
    "import numpy as np\n",
    "import pandas as pd\n",
    "from datetime import datetime, timedelta"
   ]
  },
  {
   "cell_type": "code",
   "execution_count": null,
   "metadata": {
    "id": "dq2pIf67jMpn"
   },
   "outputs": [],
   "source": [
    "def posix_time(dt):\n",
    "    return (dt - datetime(1970, 1, 1)) / timedelta(seconds=1)"
   ]
  },
  {
   "cell_type": "markdown",
   "metadata": {
    "id": "iCNXod0ZkJ4l"
   },
   "source": [
    "\n",
    "\n",
    "#importing the dataset\n",
    "\n",
    "\n"
   ]
  },
  {
   "cell_type": "code",
   "execution_count": null,
   "metadata": {
    "id": "H7XjquU6j-KQ"
   },
   "outputs": [],
   "source": [
    "data = pd.read_csv('Train.csv')"
   ]
  },
  {
   "cell_type": "markdown",
   "metadata": {
    "id": "9PNQWiw1k-BP"
   },
   "source": [
    "#taking the required features or columns\n",
    "Collecting the data\n"
   ]
  },
  {
   "cell_type": "code",
   "execution_count": null,
   "metadata": {
    "id": "ymQOLB8pj985"
   },
   "outputs": [],
   "source": [
    "data = data.sort_values(\n",
    "    by=['date_time'], ascending=True).reset_index(drop=True)\n",
    "last_n_hours = [1, 2, 3, 4, 5, 6]\n",
    "for n in last_n_hours:\n",
    "    data[f'last_{n}_hour_traffic'] = data['traffic_volume'].shift(n)\n",
    "data = data.dropna().reset_index(drop=True)\n",
    "data.loc[data['is_holiday'] != 'None', 'is_holiday'] = 1\n",
    "data.loc[data['is_holiday'] == 'None', 'is_holiday'] = 0\n",
    "data['is_holiday'] = data['is_holiday'].astype(int)\n",
    "\n",
    "data['date_time'] = pd.to_datetime(data['date_time'])\n",
    "data['hour'] = data['date_time'].map(lambda x: int(x.strftime(\"%H\")))\n",
    "data['month_day'] = data['date_time'].map(lambda x: int(x.strftime(\"%d\")))\n",
    "data['weekday'] = data['date_time'].map(lambda x: x.weekday()+1)\n",
    "data['month'] = data['date_time'].map(lambda x: int(x.strftime(\"%m\")))\n",
    "data['year'] = data['date_time'].map(lambda x: int(x.strftime(\"%Y\")))\n",
    "data.to_csv(\"traffic_volume_data.csv\", index=None)"
   ]
  },
  {
   "cell_type": "code",
   "execution_count": null,
   "metadata": {
    "id": "wt42TIeOkiqb"
   },
   "outputs": [],
   "source": [
    "sns.set()\n",
    "plt.rcParams['font.sans-serif'] = ['SimHei']\n",
    "plt.rcParams['axes.unicode_minus'] = False\n",
    "warnings.filterwarnings('ignore')\n",
    "data = pd.read_csv(\"traffic_volume_data.csv\")\n",
    "data = data.sample(10000).reset_index(drop=True)\n",
    "label_columns = ['weather_type', 'weather_description']\n",
    "numeric_columns = ['is_holiday', 'temperature',\n",
    "                       'weekday', 'hour', 'month_day', 'year', 'month']"
   ]
  },
  {
   "cell_type": "code",
   "execution_count": null,
   "metadata": {
    "id": "FJbPBfWL38aa"
   },
   "outputs": [],
   "source": [
    "features = numeric_columns+label_columns\n",
    "X = data[features]\n",
    "X.head()"
   ]
  },
  {
   "cell_type": "code",
   "execution_count": null,
   "metadata": {
    "colab": {
     "base_uri": "https://localhost:8080/"
    },
    "id": "fsUSWcueQo4n",
    "outputId": "e81bdac3-0c70-41dd-9fd4-4d9a62176ea1"
   },
   "outputs": [],
   "source": [
    "X.shape\n"
   ]
  },
  {
   "cell_type": "code",
   "execution_count": null,
   "metadata": {
    "colab": {
     "base_uri": "https://localhost:8080/"
    },
    "id": "WOWCL-_Tl3wz",
    "outputId": "375b2b20-b514-42e1-cb17-3d1904a74cd7"
   },
   "outputs": [],
   "source": [
    "from functools import reduce\n",
    "def unique(list1):\n",
    "    ans = reduce(lambda re, x: re+[x] if x not in re else re, list1, [])\n",
    "    print(ans)\n",
    "\n",
    "n1 = data['weather_type']\n",
    "n2 = data['weather_description']\n",
    "unique(n1)\n",
    "unique(n2)\n",
    "n1features = ['Rain', 'Clouds', 'Clear', 'Snow', 'Mist',\n",
    "              'Drizzle', 'Haze', 'Thunderstorm', 'Fog', 'Smoke', 'Squall']\n",
    "n2features = ['light rain', 'few clouds', 'Sky is Clear', 'light snow', 'sky is clear', 'mist', 'broken clouds', 'moderate rain', 'drizzle', 'overcast clouds', 'scattered clouds', 'haze', 'proximity thunderstorm', 'light intensity drizzle', 'heavy snow', 'heavy intensity rain', 'fog', 'heavy intensity drizzle', 'shower snow', 'snow', 'thunderstorm with rain',\n",
    "              'thunderstorm with heavy rain', 'thunderstorm with light rain', 'proximity thunderstorm with rain', 'thunderstorm with drizzle', 'smoke', 'thunderstorm', 'proximity shower rain', 'very heavy rain', 'proximity thunderstorm with drizzle', 'light rain and snow', 'light intensity shower rain', 'SQUALLS', 'shower drizzle', 'thunderstorm with light drizzle']\n",
    "\"\"\"#Data Preparation\"\"\"\n",
    "\n",
    "n11 = []\n",
    "n22 = []\n",
    "for i in range(10000):\n",
    "    if(n1[i]) not in n1features:\n",
    "        n11.append(0)\n",
    "    else:\n",
    "        n11.append((n1features.index(n1[i]))+1)\n",
    "    if n2[i] not in n2features:\n",
    "        n22.append(0)\n",
    "    else:\n",
    "        n22.append((n2features.index(n2[i]))+1)\n",
    "# print(n11)\n",
    "# print(n22)\n",
    "data['weather_type'] = n11\n",
    "data['weather_description'] = n22\n"
   ]
  },
  {
   "cell_type": "markdown",
   "metadata": {
    "id": "jOp4AVpSlPEd"
   },
   "source": [
    "#Data Preparation"
   ]
  },
  {
   "cell_type": "code",
   "execution_count": null,
   "metadata": {
    "id": "VCa_UE4-kiaX"
   },
   "outputs": [],
   "source": [
    "features = numeric_columns+label_columns\n",
    "target = ['traffic_volume']\n",
    "X = data[features]\n",
    "y = data[target]"
   ]
  },
  {
   "cell_type": "code",
   "execution_count": null,
   "metadata": {
    "colab": {
     "base_uri": "https://localhost:8080/",
     "height": 301
    },
    "id": "39wMw-Ll1inC",
    "outputId": "73fd29fd-78d4-4f4e-f388-39e8133b6fc5"
   },
   "outputs": [],
   "source": [
    "X.head(6)"
   ]
  },
  {
   "cell_type": "code",
   "execution_count": null,
   "metadata": {
    "colab": {
     "base_uri": "https://localhost:8080/",
     "height": 495
    },
    "id": "fjB2ZRjAmfWP",
    "outputId": "b15d6689-c1b4-44c4-e7b1-965c34a7fd9f"
   },
   "outputs": [],
   "source": [
    "print(data[features].hist(bins=20,))"
   ]
  },
  {
   "cell_type": "code",
   "execution_count": null,
   "metadata": {
    "id": "fmbQJbngl1Cm"
   },
   "outputs": [],
   "source": [
    "# data['traffic_volume'].hist(bins=20)"
   ]
  },
  {
   "cell_type": "markdown",
   "metadata": {
    "id": "jlMn2VaklmDm"
   },
   "source": [
    "#Feature Scaling"
   ]
  },
  {
   "cell_type": "code",
   "execution_count": null,
   "metadata": {
    "id": "uF1n7zfzlqoC"
   },
   "outputs": [],
   "source": [
    "x_scaler = MinMaxScaler()\n",
    "X = x_scaler.fit_transform(X)\n",
    "y_scaler = MinMaxScaler()\n",
    "y = y_scaler.fit_transform(y).flatten()\n",
    "warnings.filterwarnings('ignore')"
   ]
  },
  {
   "cell_type": "code",
   "execution_count": null,
   "metadata": {
    "colab": {
     "base_uri": "https://localhost:8080/"
    },
    "id": "kYXMZO-elrd9",
    "outputId": "cc6df361-12e8-46b0-e631-68c6608de300"
   },
   "outputs": [],
   "source": [
    "print(X[:5])"
   ]
  },
  {
   "cell_type": "markdown",
   "metadata": {
    "id": "4It7y43LoIlS"
   },
   "source": [
    "#Visualization"
   ]
  },
  {
   "cell_type": "code",
   "execution_count": null,
   "metadata": {
    "colab": {
     "base_uri": "https://localhost:8080/",
     "height": 1000
    },
    "id": "arNDfHuumYaH",
    "outputId": "68d24a32-42c9-4339-b817-f80dbd2e2df8"
   },
   "outputs": [],
   "source": [
    "metrics = ['month', 'month_day', 'weekday', 'hour']\n",
    "fig = plt.figure(figsize=(8, 4*len(metrics)))\n",
    "for i, metric in enumerate(metrics):\n",
    "\tax = fig.add_subplot(len(metrics), 1, i+1)\n",
    "\tax.plot(data.groupby(metric)['traffic_volume'].mean(), '-o')\n",
    "\tax.set_xlabel(metric)\n",
    "\tax.set_ylabel(\"Mean Traffic\")\n",
    "\tax.set_title(f\"Traffic Trend by {metric}\")\n",
    "plt.tight_layout()\n",
    "plt.show()"
   ]
  },
  {
   "cell_type": "code",
   "execution_count": null,
   "metadata": {
    "id": "8IOlp3ZqjE3n"
   },
   "outputs": [],
   "source": []
  },
  {
   "cell_type": "markdown",
   "metadata": {
    "id": "qcpADogml9lD"
   },
   "source": [
    "#Train the Model"
   ]
  },
  {
   "cell_type": "code",
   "execution_count": null,
   "metadata": {
    "colab": {
     "base_uri": "https://localhost:8080/"
    },
    "id": "w_JxqtgkmA-Q",
    "outputId": "439f6fc3-7d95-4dbd-a0e3-df172a07f472"
   },
   "outputs": [],
   "source": [
    "regr = MLPRegressor(random_state=1, max_iter=500).fit(X, y)\n",
    "new = []\n",
    "print('predicted output :=',regr.predict(X[:10]))\n",
    "print('Actual output :=',y[:10])"
   ]
  },
  {
   "cell_type": "code",
   "execution_count": null,
   "metadata": {
    "colab": {
     "base_uri": "https://localhost:8080/"
    },
    "id": "c5-VBpbNRIxI",
    "outputId": "e1b92146-97ab-4506-f240-72af61d1e20e"
   },
   "outputs": [],
   "source": [
    "# error eval\n",
    "from sklearn.model_selection import train_test_split\n",
    "from sklearn.metrics import mean_absolute_error\n",
    "trainX, testX, trainY, testY = train_test_split(X, y, test_size=0.2)\n",
    "y_pred = regr.predict(testX)\n",
    "print('Mean Absolute Error:', mean_absolute_error(testY, y_pred))\n",
    "##############################"
   ]
  },
  {
   "cell_type": "code",
   "execution_count": null,
   "metadata": {
    "colab": {
     "base_uri": "https://localhost:8080/"
    },
    "id": "YguC21Lcoeup",
    "outputId": "1e1cb121-2e49-4f02-bd4a-ade13a7676b1"
   },
   "outputs": [],
   "source": [
    "print(features)"
   ]
  },
  {
   "cell_type": "code",
   "execution_count": null,
   "metadata": {
    "colab": {
     "base_uri": "https://localhost:8080/",
     "height": 206
    },
    "id": "8_rgNNZ5oigr",
    "outputId": "b4ee7cfb-ccd3-4c8c-d91b-0e622d006884"
   },
   "outputs": [],
   "source": [
    "data[features].head(5)"
   ]
  },
  {
   "cell_type": "markdown",
   "metadata": {
    "id": "vLx7CxtioYn3"
   },
   "source": [
    "#User input"
   ]
  },
  {
   "cell_type": "code",
   "execution_count": null,
   "metadata": {
    "colab": {
     "base_uri": "https://localhost:8080/"
    },
    "id": "uvI4vBoloYSz",
    "outputId": "938281d8-5ab0-4519-94eb-174fd61dc953"
   },
   "outputs": [],
   "source": [
    "ip=[0,89,2,288.28,1,9,2,2012,10]\n",
    "ip = x_scaler.transform([ip])\n",
    "out=regr.predict(ip)\n",
    "print('Before inverse Scaling :',out)"
   ]
  },
  {
   "cell_type": "code",
   "execution_count": null,
   "metadata": {
    "colab": {
     "base_uri": "https://localhost:8080/"
    },
    "id": "7dNibTZroYIt",
    "outputId": "c6817f46-4b5c-40e2-963b-73129400f0d5"
   },
   "outputs": [],
   "source": [
    "y_pred = y_scaler.inverse_transform([out])\n",
    "print('Traffic Volume : ',y_pred)"
   ]
  },
  {
   "cell_type": "code",
   "execution_count": null,
   "metadata": {
    "colab": {
     "base_uri": "https://localhost:8080/"
    },
    "id": "LO-UAQfkpXhL",
    "outputId": "a97e83f9-de01-49bf-f69c-0481ac8f4a1b"
   },
   "outputs": [],
   "source": [
    "if(y_pred<=1000):\n",
    "  print(\"No Traffic \")\n",
    "elif y_pred>1000 and y_pred<=3000:\n",
    "  print(\"Busy or Normal Traffic\")\n",
    "elif y_pred>3000 and y_pred<=5500:\n",
    "  print(\"heavy Traffic\")\n",
    "else:\n",
    "  print(\"Worst case\")"
   ]
  },
  {
   "cell_type": "markdown",
   "metadata": {
    "id": "UfaHUYVfrpm2"
   },
   "source": [
    "#Evaluating Metrics "
   ]
  },
  {
   "cell_type": "code",
   "execution_count": null,
   "metadata": {
    "id": "HQA61u4Irorp"
   },
   "outputs": [],
   "source": [
    "# def relative_absolute_error(true, pred):\n",
    "#     true_mean = np.mean(true)\n",
    "#     squared_error_num = np.sum(np.abs(true - pred))\n",
    "#     squared_error_den = np.sum(np.abs(true - true_mean))\n",
    "#     rae_loss = squared_error_num / squared_error_den\n",
    "#     return rae_loss\n",
    "# def mean_bias_error(true, pred):\n",
    "#     bias_error = true - pred\n",
    "#     mbe_loss = np.mean(np.sum(diff) / true.size)\n",
    "#     return mbe_loss\n",
    "# def mean_absolute_percentage_error(true, pred):\n",
    "#     abs_error = (np.abs(true - pred)) / true\n",
    "#     sum_abs_error = np.sum(abs_error)\n",
    "#     mape_loss = (sum_abs_error / true.size) * 100\n",
    "#     return mape_loss\n",
    "# def mean_squared_error(true, pred):\n",
    "#     squared_error = np.square(true - pred) \n",
    "#     sum_squared_error = np.sum(squared_error)\n",
    "#     mse_loss = sum_squared_error / true.size\n",
    "#     return mse_loss\n",
    "# def root_mean_squared_error(true, pred):\n",
    "#     squared_error = np.square(true - pred) \n",
    "#     sum_squared_error = np.sum(squared_error)\n",
    "#     rmse_loss = np.sqrt(sum_squared_error / true.size)\n",
    "#     return rmse_loss"
   ]
  }
 ],
 "metadata": {
  "accelerator": "GPU",
  "colab": {
   "provenance": []
  },
  "gpuClass": "standard",
  "kernelspec": {
   "display_name": "venv",
   "language": "python",
   "name": "python3"
  },
  "language_info": {
   "name": "python",
   "version": "3.12.4"
  }
 },
 "nbformat": 4,
 "nbformat_minor": 0
}
